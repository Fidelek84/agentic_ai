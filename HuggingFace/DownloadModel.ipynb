{
 "cells": [
  {
   "cell_type": "code",
   "execution_count": null,
   "id": "63533e10",
   "metadata": {},
   "outputs": [],
   "source": [
    "!pip install transformers\n",
    "!pip install torch"
   ]
  },
  {
   "cell_type": "code",
   "execution_count": null,
   "id": "3407ead8",
   "metadata": {},
   "outputs": [],
   "source": [
    "from transformers import AutoModel, AutoTokenizer\n",
    "\n",
    "# Download the model and tokenizer\n",
    "model_name = \"bert-base-uncased\"\n",
    "model = AutoModel.from_pretrained(model_name)\n",
    "tokenizer = AutoTokenizer.from_pretrained(model_name)\n",
    "\n",
    "#Use the model and tokenizer\n",
    "inputs = tokenizer(\"The integration of large language models (LLMs) into MLOps pipelines facilitates automated deployment, continuous monitoring, and scalable governance of AI-driven solutions. This approach enhances model performance and reduces operational overhead in production environments\", return_tensors=\"pt\")\n",
    "# inputs = tokenizer(\"The latest update to CVE-2023-45678 indicates a critical remote code execution vulnerability affecting Apache Struts 2. Organizations are strongly advised to patch immediately or apply mitigating controls such as WAF rules and network segmentation. This vulnerability poses a significant risk to unpatched web applications.\", return_tensors=\"pt\")\n",
    "# inputs = tokenizer(\"During the post-migration audit, several discrepancies were noted in the AWS S3 bucket policies for the 'production-data-lake' account. Specifically, access logs were incomplete, and certain principals retained 's3:PutObject' permissions from environments no longer active, posing a compliance risk.\", return_tensors=\"pt\")\n",
    "# inputs = tokenizer(\"Troubleshooting report: User 'jsmith' reports intermittent connectivity issues to the PostgreSQL DB instance 'prod-db-cluster-1' from their development workstation. Ping tests are successful, but attempts to connect via `psql` or a custom application sometimes timeout. Firewall logs show no explicit denies on the database server itself.\", return_tensors=\"pt\")\n",
    "# inputs = tokenizer(\"Proposal for Microservice Re-architecture: Migrate the monolithic 'OrderProcessingService' to a set of independent, containerized services (e.g., 'PaymentService', 'InventoryService', 'ShippingService'). This will leverage Kafka for inter-service communication and Kubernetes for orchestration, improving scalability and fault tolerance.\", return_tensors=\"pt\")\n",
    "# inputs = tokenizer(\"Agenda for SCRUM Daily Stand-up (07/26): 1. What did you accomplish yesterday? 2. What will you work on today? 3. Are there any impediments blocking your progress? Quick update on API Gateway deployment status and frontend bug #123. JIRA ticket links are in Slack.\", return_tensors=\"pt\")\n",
    "outputs = model(**inputs)\n",
    "print(outputs.last_hidden_state.shape)"
   ]
  }
 ],
 "metadata": {
  "kernelspec": {
   "display_name": "venv",
   "language": "python",
   "name": "python3"
  },
  "language_info": {
   "codemirror_mode": {
    "name": "ipython",
    "version": 3
   },
   "file_extension": ".py",
   "mimetype": "text/x-python",
   "name": "python",
   "nbconvert_exporter": "python",
   "pygments_lexer": "ipython3",
   "version": "3.13.1"
  }
 },
 "nbformat": 4,
 "nbformat_minor": 5
}
