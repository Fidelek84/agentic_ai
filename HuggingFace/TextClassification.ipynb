{
 "cells": [
  {
   "cell_type": "code",
   "execution_count": null,
   "id": "c0f58f82",
   "metadata": {},
   "outputs": [],
   "source": [
    "!pip install transformers\n",
    "!pip install torch\n",
    "!python.exe -m pip install --upgrade pip"
   ]
  },
  {
   "cell_type": "code",
   "execution_count": null,
   "id": "c7069023",
   "metadata": {},
   "outputs": [],
   "source": [
    "from transformers import pipeline\n",
    "\n",
    "# Load SPAM detection model\n",
    "# spam_classifier = pipeline(\"text-classification\", model=\"philschmid/distilbert-base-uncased-finetuned-sms-spam-detection\")\n",
    "# spam_classifier = pipeline(\"text-classification\", model=\"philschmid/distilbert-base-multilingual-finetuned-sms-spam-detection\")\n",
    "spam_classifier = pipeline(\"text-classification\", model=\"philschmid/distilbert-base-multilingual-cased-sentiment\")"
   ]
  },
  {
   "cell_type": "code",
   "execution_count": null,
   "id": "5f580050",
   "metadata": {},
   "outputs": [],
   "source": [
    "texts = [\n",
    "    \"Congratulations! You've won a 500 INR Amazon gift card. Click here to claim now.\", # SPAM\n",
    "    \"Hi Sarah, here's the meeting agenda for our project review on Friday.\", # NOT SPAM\n",
    "    \"Urgent action required: Your Netflix subscription is about to expire. Update payment here.\", # SPAM\n",
    "    \"Your Amazon order #123-4567890-1234567 has shipped. Tracking number: ABCDEFG12345.\", # NOT SPAM\n",
    "    \"You've been selected for a government grant of $5000! Reply with personal info to claim.\", # SPAM\n",
    "    \"Password reset initiated for your GitHub account. If this wasn't you, ignore this email.\", # NOT SPAM\n",
    "    \"Lotto winner notification: Your email address has won $1,000,000. Contact our agent for transfer.\", # SPAM\n",
    "    \"Monthly performance report for Q3 is now available on the shared drive.\", # NOT SPAM\n",
    "    \"Security Alert: Someone logged into your bank account from an unknown device. Click to secure.\", # SPAM\n",
    "    \"Reminder: Your annual leave request for July 15-19 has been approved.\", # NOT SPAM\n",
    "    \"Unsubscribe from future emails by clicking this link, or face legal action.\", # SPAM\n",
    "    \"Please find attached the revised budget proposal for the Q4 marketing campaign.\", # NOT SPAM\n",
    "    \"Your account has been suspended due to unusual activity. Verify your details here to reactivate.\", # SPAM\n",
    "    \"Your Airbnb reservation for 'Cozy Cabin Retreat' on Nov 1-3 is confirmed.\", # NOT SPAM\n",
    "    \"Your package is delayed due to unpaid customs fees. Click here to resolve and avoid return.\", # SPAM\n",
    "    \"Action required: Your certificate for 'AWS Solutions Architect' is expiring next month. Renew online.\", # NOT SPAM\n",
    "    \"Exclusive diet pill: Lose 30 lbs in 7 days! Order now before stock runs out.\", # SPAM\n",
    "    \"Don't forget the company picnic next Saturday at Central Park. RSVP by end of week.\", # NOT SPAM\n",
    "    \"Hi Amit, let's have a meeting tomorrow at 12 PM.\", # NOT SPAM\n",
    "    \"URGENT: Your gmail account has been compromised. Click here to secure it.\" # SPAM\n",
    "]\n",
    "\n",
    "results = spam_classifier(texts)\n",
    "\n",
    "label_mapping = {'negative': 'SPAM', 'neutral': 'NOT SPAM', 'positive': 'NOT SPAM'}\n",
    "\n",
    "for result in results:\n",
    "    label = label_mapping[result['label']] # Map the label\n",
    "    score = result['score']\n",
    "    print(f\"Label: {label}, Confidence: {score:.4f}\")\n"
   ]
  },
  {
   "cell_type": "code",
   "execution_count": null,
   "id": "9060dad3",
   "metadata": {},
   "outputs": [],
   "source": []
  }
 ],
 "metadata": {
  "kernelspec": {
   "display_name": "venv",
   "language": "python",
   "name": "python3"
  },
  "language_info": {
   "codemirror_mode": {
    "name": "ipython",
    "version": 3
   },
   "file_extension": ".py",
   "mimetype": "text/x-python",
   "name": "python",
   "nbconvert_exporter": "python",
   "pygments_lexer": "ipython3",
   "version": "3.13.1"
  }
 },
 "nbformat": 4,
 "nbformat_minor": 5
}
