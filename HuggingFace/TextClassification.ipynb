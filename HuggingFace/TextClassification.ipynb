{
 "cells": [
  {
   "cell_type": "code",
   "execution_count": 6,
   "id": "c0f58f82",
   "metadata": {},
   "outputs": [
    {
     "name": "stdout",
     "output_type": "stream",
     "text": [
      "Requirement already satisfied: transformers in d:\\dysk\\repo\\langchain\\hf_dataset\\venv\\lib\\site-packages (4.55.4)\n",
      "Requirement already satisfied: filelock in d:\\dysk\\repo\\langchain\\hf_dataset\\venv\\lib\\site-packages (from transformers) (3.19.1)\n",
      "Requirement already satisfied: huggingface-hub<1.0,>=0.34.0 in d:\\dysk\\repo\\langchain\\hf_dataset\\venv\\lib\\site-packages (from transformers) (0.34.4)\n",
      "Requirement already satisfied: numpy>=1.17 in d:\\dysk\\repo\\langchain\\hf_dataset\\venv\\lib\\site-packages (from transformers) (2.3.2)\n",
      "Requirement already satisfied: packaging>=20.0 in d:\\dysk\\repo\\langchain\\hf_dataset\\venv\\lib\\site-packages (from transformers) (25.0)\n",
      "Requirement already satisfied: pyyaml>=5.1 in d:\\dysk\\repo\\langchain\\hf_dataset\\venv\\lib\\site-packages (from transformers) (6.0.2)\n",
      "Requirement already satisfied: regex!=2019.12.17 in d:\\dysk\\repo\\langchain\\hf_dataset\\venv\\lib\\site-packages (from transformers) (2025.7.34)\n",
      "Requirement already satisfied: requests in d:\\dysk\\repo\\langchain\\hf_dataset\\venv\\lib\\site-packages (from transformers) (2.32.5)\n",
      "Requirement already satisfied: tokenizers<0.22,>=0.21 in d:\\dysk\\repo\\langchain\\hf_dataset\\venv\\lib\\site-packages (from transformers) (0.21.4)\n",
      "Requirement already satisfied: safetensors>=0.4.3 in d:\\dysk\\repo\\langchain\\hf_dataset\\venv\\lib\\site-packages (from transformers) (0.6.2)\n",
      "Requirement already satisfied: tqdm>=4.27 in d:\\dysk\\repo\\langchain\\hf_dataset\\venv\\lib\\site-packages (from transformers) (4.67.1)\n",
      "Requirement already satisfied: fsspec>=2023.5.0 in d:\\dysk\\repo\\langchain\\hf_dataset\\venv\\lib\\site-packages (from huggingface-hub<1.0,>=0.34.0->transformers) (2025.3.0)\n",
      "Requirement already satisfied: typing-extensions>=3.7.4.3 in d:\\dysk\\repo\\langchain\\hf_dataset\\venv\\lib\\site-packages (from huggingface-hub<1.0,>=0.34.0->transformers) (4.15.0)\n",
      "Requirement already satisfied: colorama in d:\\dysk\\repo\\langchain\\hf_dataset\\venv\\lib\\site-packages (from tqdm>=4.27->transformers) (0.4.6)\n",
      "Requirement already satisfied: charset_normalizer<4,>=2 in d:\\dysk\\repo\\langchain\\hf_dataset\\venv\\lib\\site-packages (from requests->transformers) (3.4.3)\n",
      "Requirement already satisfied: idna<4,>=2.5 in d:\\dysk\\repo\\langchain\\hf_dataset\\venv\\lib\\site-packages (from requests->transformers) (3.10)\n",
      "Requirement already satisfied: urllib3<3,>=1.21.1 in d:\\dysk\\repo\\langchain\\hf_dataset\\venv\\lib\\site-packages (from requests->transformers) (2.5.0)\n",
      "Requirement already satisfied: certifi>=2017.4.17 in d:\\dysk\\repo\\langchain\\hf_dataset\\venv\\lib\\site-packages (from requests->transformers) (2025.8.3)\n",
      "Requirement already satisfied: torch in d:\\dysk\\repo\\langchain\\hf_dataset\\venv\\lib\\site-packages (2.8.0)\n",
      "Requirement already satisfied: filelock in d:\\dysk\\repo\\langchain\\hf_dataset\\venv\\lib\\site-packages (from torch) (3.19.1)\n",
      "Requirement already satisfied: typing-extensions>=4.10.0 in d:\\dysk\\repo\\langchain\\hf_dataset\\venv\\lib\\site-packages (from torch) (4.15.0)\n",
      "Requirement already satisfied: sympy>=1.13.3 in d:\\dysk\\repo\\langchain\\hf_dataset\\venv\\lib\\site-packages (from torch) (1.14.0)\n",
      "Requirement already satisfied: networkx in d:\\dysk\\repo\\langchain\\hf_dataset\\venv\\lib\\site-packages (from torch) (3.5)\n",
      "Requirement already satisfied: jinja2 in d:\\dysk\\repo\\langchain\\hf_dataset\\venv\\lib\\site-packages (from torch) (3.1.6)\n",
      "Requirement already satisfied: fsspec in d:\\dysk\\repo\\langchain\\hf_dataset\\venv\\lib\\site-packages (from torch) (2025.3.0)\n",
      "Requirement already satisfied: setuptools in d:\\dysk\\repo\\langchain\\hf_dataset\\venv\\lib\\site-packages (from torch) (80.9.0)\n",
      "Requirement already satisfied: mpmath<1.4,>=1.1.0 in d:\\dysk\\repo\\langchain\\hf_dataset\\venv\\lib\\site-packages (from sympy>=1.13.3->torch) (1.3.0)\n",
      "Requirement already satisfied: MarkupSafe>=2.0 in d:\\dysk\\repo\\langchain\\hf_dataset\\venv\\lib\\site-packages (from jinja2->torch) (3.0.2)\n",
      "Requirement already satisfied: pip in d:\\dysk\\repo\\langchain\\hf_dataset\\venv\\lib\\site-packages (25.2)\n"
     ]
    }
   ],
   "source": [
    "!pip install transformers\n",
    "!pip install torch\n",
    "!python.exe -m pip install --upgrade pip"
   ]
  },
  {
   "cell_type": "code",
   "execution_count": 7,
   "id": "c7069023",
   "metadata": {},
   "outputs": [
    {
     "name": "stderr",
     "output_type": "stream",
     "text": [
      "Device set to use cpu\n"
     ]
    }
   ],
   "source": [
    "from transformers import pipeline\n",
    "\n",
    "# Load SPAM detection model\n",
    "# spam_classifier = pipeline(\"text-classification\", model=\"philschmid/distilbert-base-uncased-finetuned-sms-spam-detection\")\n",
    "# spam_classifier = pipeline(\"text-classification\", model=\"philschmid/distilbert-base-multilingual-finetuned-sms-spam-detection\")\n",
    "spam_classifier = pipeline(\"text-classification\", model=\"philschmid/distilbert-base-multilingual-cased-sentiment\")"
   ]
  },
  {
   "cell_type": "code",
   "execution_count": 8,
   "id": "5f580050",
   "metadata": {},
   "outputs": [
    {
     "name": "stdout",
     "output_type": "stream",
     "text": [
      "Label: SPAM, Confidence: 0.9927\n",
      "Label: NOT SPAM, Confidence: 0.9269\n",
      "Label: NOT SPAM, Confidence: 0.5050\n",
      "Label: SPAM, Confidence: 0.9449\n",
      "Label: SPAM, Confidence: 0.9283\n",
      "Label: SPAM, Confidence: 0.9411\n",
      "Label: SPAM, Confidence: 0.8847\n",
      "Label: NOT SPAM, Confidence: 0.9531\n",
      "Label: NOT SPAM, Confidence: 0.6575\n",
      "Label: SPAM, Confidence: 0.7375\n",
      "Label: SPAM, Confidence: 0.9602\n",
      "Label: NOT SPAM, Confidence: 0.3741\n",
      "Label: SPAM, Confidence: 0.7633\n",
      "Label: SPAM, Confidence: 0.8510\n",
      "Label: SPAM, Confidence: 0.9511\n",
      "Label: SPAM, Confidence: 0.8544\n",
      "Label: NOT SPAM, Confidence: 0.6884\n",
      "Label: NOT SPAM, Confidence: 0.8887\n",
      "Label: NOT SPAM, Confidence: 0.5300\n",
      "Label: SPAM, Confidence: 0.7050\n"
     ]
    }
   ],
   "source": [
    "texts = [\n",
    "    \"Congratulations! You've won a 500 INR Amazon gift card. Click here to claim now.\", # SPAM\n",
    "    \"Hi Sarah, here's the meeting agenda for our project review on Friday.\", # NOT SPAM\n",
    "    \"Urgent action required: Your Netflix subscription is about to expire. Update payment here.\", # SPAM\n",
    "    \"Your Amazon order #123-4567890-1234567 has shipped. Tracking number: ABCDEFG12345.\", # NOT SPAM\n",
    "    \"You've been selected for a government grant of $5000! Reply with personal info to claim.\", # SPAM\n",
    "    \"Password reset initiated for your GitHub account. If this wasn't you, ignore this email.\", # NOT SPAM\n",
    "    \"Lotto winner notification: Your email address has won $1,000,000. Contact our agent for transfer.\", # SPAM\n",
    "    \"Monthly performance report for Q3 is now available on the shared drive.\", # NOT SPAM\n",
    "    \"Security Alert: Someone logged into your bank account from an unknown device. Click to secure.\", # SPAM\n",
    "    \"Reminder: Your annual leave request for July 15-19 has been approved.\", # NOT SPAM\n",
    "    \"Unsubscribe from future emails by clicking this link, or face legal action.\", # SPAM\n",
    "    \"Please find attached the revised budget proposal for the Q4 marketing campaign.\", # NOT SPAM\n",
    "    \"Your account has been suspended due to unusual activity. Verify your details here to reactivate.\", # SPAM\n",
    "    \"Your Airbnb reservation for 'Cozy Cabin Retreat' on Nov 1-3 is confirmed.\", # NOT SPAM\n",
    "    \"Your package is delayed due to unpaid customs fees. Click here to resolve and avoid return.\", # SPAM\n",
    "    \"Action required: Your certificate for 'AWS Solutions Architect' is expiring next month. Renew online.\", # NOT SPAM\n",
    "    \"Exclusive diet pill: Lose 30 lbs in 7 days! Order now before stock runs out.\", # SPAM\n",
    "    \"Don't forget the company picnic next Saturday at Central Park. RSVP by end of week.\", # NOT SPAM\n",
    "    \"Hi Amit, let's have a meeting tomorrow at 12 PM.\", # NOT SPAM\n",
    "    \"URGENT: Your gmail account has been compromised. Click here to secure it.\" # SPAM\n",
    "]\n",
    "\n",
    "results = spam_classifier(texts)\n",
    "\n",
    "label_mapping = {'negative': 'SPAM', 'neutral': 'NOT SPAM', 'positive': 'NOT SPAM'}\n",
    "\n",
    "for result in results:\n",
    "    label = label_mapping[result['label']] # Map the label\n",
    "    score = result['score']\n",
    "    print(f\"Label: {label}, Confidence: {score:.4f}\")\n"
   ]
  },
  {
   "cell_type": "code",
   "execution_count": null,
   "id": "9060dad3",
   "metadata": {},
   "outputs": [],
   "source": []
  }
 ],
 "metadata": {
  "kernelspec": {
   "display_name": "venv",
   "language": "python",
   "name": "python3"
  },
  "language_info": {
   "codemirror_mode": {
    "name": "ipython",
    "version": 3
   },
   "file_extension": ".py",
   "mimetype": "text/x-python",
   "name": "python",
   "nbconvert_exporter": "python",
   "pygments_lexer": "ipython3",
   "version": "3.13.1"
  }
 },
 "nbformat": 4,
 "nbformat_minor": 5
}
