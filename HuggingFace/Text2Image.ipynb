{
 "cells": [
  {
   "cell_type": "code",
   "execution_count": null,
   "id": "70ac984c",
   "metadata": {},
   "outputs": [],
   "source": [
    "!pip install diffusers transformers accelerate torch\n",
    "!pip install huggingface_hub[hf_xet]\n",
    "!pip install hf_xet"
   ]
  },
  {
   "cell_type": "code",
   "execution_count": null,
   "id": "105fbdae",
   "metadata": {},
   "outputs": [],
   "source": [
    "from diffusers import StableDiffusionPipeline\n",
    "import torch\n",
    "\n",
    "# Load the Stable Diffusion model\n",
    "model_id = \"CompVis/stable-diffusion-v1-4\"\n",
    "pipe = StableDiffusionPipeline.from_pretrained(\n",
    "    model_id,\n",
    "    torch_dtype=torch.float16\n",
    ")\n",
    "\n",
    "# Move the model to GPU if available\n",
    "device = \"cuda\" if torch.cuda.is_available() else \"cpu\"\n",
    "pipe = pipe.to(device)"
   ]
  },
  {
   "cell_type": "code",
   "execution_count": null,
   "id": "b7d932f8",
   "metadata": {},
   "outputs": [],
   "source": [
    "# Define your text prompt\n",
    "prompt = \"A vintage steam-powered robot librarian meticulously organizing ancient scrolls in a dimly lit, vast, gothic library.\"\n",
    "# prompt = \"An astronaut, cloaked in nebulae and stardust, meditates peacefully on a floating lotus amidst a colorful galaxy, highly detailed.\"\n",
    "# prompt = \"Close-up of a hyperrealistic miniature terrarium ecosystem thriving inside a shattered lightbulb, vibrant mosses, tiny frogs, and fireflies, dramatic soft lighting, macro photography.\"\n",
    "# prompt = \"A post-apocalyptic diner, vibrant neon signs flickering in the rain, a lone mechanical chef serving a mutated survivor, retro-futuristic, cinematic lighting.\"\n",
    "# prompt = \"Abstract watercolor painting of sound waves transforming into blooming flowers, pastel colors bleeding elegantly into each other on textured paper, ethereal, fluid dynamics.\"\n",
    "\n",
    "# Generate the image\n",
    "with torch.autocast(\"cuda\"): # Use autocast for mixed precision (faster on GPU)\n",
    "    image = pipe(prompt).images[0]\n",
    "\n",
    "    \n",
    "\n",
    "# Save the image\n",
    "image.save(\"generated_image.png\")\n",
    "print(\"Image saved as generated_image.png\")"
   ]
  }
 ],
 "metadata": {
  "kernelspec": {
   "display_name": "venv",
   "language": "python",
   "name": "python3"
  },
  "language_info": {
   "codemirror_mode": {
    "name": "ipython",
    "version": 3
   },
   "file_extension": ".py",
   "mimetype": "text/x-python",
   "name": "python",
   "nbconvert_exporter": "python",
   "pygments_lexer": "ipython3",
   "version": "3.13.1"
  }
 },
 "nbformat": 4,
 "nbformat_minor": 5
}
