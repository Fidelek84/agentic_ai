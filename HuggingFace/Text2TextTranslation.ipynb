{
 "cells": [
  {
   "cell_type": "code",
   "execution_count": null,
   "id": "a1626f5f",
   "metadata": {},
   "outputs": [],
   "source": [
    "!pip install transformers torch\n",
    "!pip install sentencepiece"
   ]
  },
  {
   "cell_type": "code",
   "execution_count": null,
   "id": "5ed32d9f",
   "metadata": {},
   "outputs": [],
   "source": [
    "from transformers import T5ForConditionalGeneration, T5Tokenizer\n",
    "\n",
    "# Load the pre-treined T5 model and tokenizer\n",
    "model_name = \"t5-small\"\n",
    "tokenizer = T5Tokenizer.from_pretrained(model_name)\n",
    "model = T5ForConditionalGeneration.from_pretrained(model_name)"
   ]
  },
  {
   "cell_type": "code",
   "execution_count": null,
   "id": "c4be7798",
   "metadata": {},
   "outputs": [],
   "source": [
    "input_text = \"Translate English to French: The rapid advancement of artificial intelligence is transforming industries worldwide, bringing both unprecedented opportunities and new challenges.\"\n",
    "# input_text = \"Translate English to German: Network engineers frequently troubleshoot latency issues by analyzing packet loss and optimizing routing protocols.\"\n",
    "# input_text = \"Translate English to Italian: Could you give me a hand with this? It's raining cats and dogs outside, so we should probably call it a day.\"\n",
    "\n",
    "\n",
    "input_ids = tokenizer(input_text, return_tensors=\"pt\").input_ids\n",
    "\n",
    "# Generate translation\n",
    "outputs = model.generate(input_ids, max_length=50)\n",
    "\n",
    "# Decode the output tokens to text\n",
    "translated_text = tokenizer.decode(outputs[0], skip_special_tokens=True)\n",
    "print(\"Translated Text:\", translated_text)"
   ]
  }
 ],
 "metadata": {
  "kernelspec": {
   "display_name": "venv",
   "language": "python",
   "name": "python3"
  },
  "language_info": {
   "codemirror_mode": {
    "name": "ipython",
    "version": 3
   },
   "file_extension": ".py",
   "mimetype": "text/x-python",
   "name": "python",
   "nbconvert_exporter": "python",
   "pygments_lexer": "ipython3",
   "version": "3.13.1"
  }
 },
 "nbformat": 4,
 "nbformat_minor": 5
}
