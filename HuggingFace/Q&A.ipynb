{
 "cells": [
  {
   "cell_type": "code",
   "execution_count": 5,
   "id": "96530d35",
   "metadata": {},
   "outputs": [
    {
     "name": "stdout",
     "output_type": "stream",
     "text": [
      "Requirement already satisfied: transformers in d:\\dysk\\repo\\langchain\\hf_dataset\\venv\\lib\\site-packages (4.55.4)\n",
      "Requirement already satisfied: torch in d:\\dysk\\repo\\langchain\\hf_dataset\\venv\\lib\\site-packages (2.8.0)\n",
      "Requirement already satisfied: filelock in d:\\dysk\\repo\\langchain\\hf_dataset\\venv\\lib\\site-packages (from transformers) (3.19.1)\n",
      "Requirement already satisfied: huggingface-hub<1.0,>=0.34.0 in d:\\dysk\\repo\\langchain\\hf_dataset\\venv\\lib\\site-packages (from transformers) (0.34.4)\n",
      "Requirement already satisfied: numpy>=1.17 in d:\\dysk\\repo\\langchain\\hf_dataset\\venv\\lib\\site-packages (from transformers) (2.3.2)\n",
      "Requirement already satisfied: packaging>=20.0 in d:\\dysk\\repo\\langchain\\hf_dataset\\venv\\lib\\site-packages (from transformers) (25.0)\n",
      "Requirement already satisfied: pyyaml>=5.1 in d:\\dysk\\repo\\langchain\\hf_dataset\\venv\\lib\\site-packages (from transformers) (6.0.2)\n",
      "Requirement already satisfied: regex!=2019.12.17 in d:\\dysk\\repo\\langchain\\hf_dataset\\venv\\lib\\site-packages (from transformers) (2025.7.34)\n",
      "Requirement already satisfied: requests in d:\\dysk\\repo\\langchain\\hf_dataset\\venv\\lib\\site-packages (from transformers) (2.32.5)\n",
      "Requirement already satisfied: tokenizers<0.22,>=0.21 in d:\\dysk\\repo\\langchain\\hf_dataset\\venv\\lib\\site-packages (from transformers) (0.21.4)\n",
      "Requirement already satisfied: safetensors>=0.4.3 in d:\\dysk\\repo\\langchain\\hf_dataset\\venv\\lib\\site-packages (from transformers) (0.6.2)\n",
      "Requirement already satisfied: tqdm>=4.27 in d:\\dysk\\repo\\langchain\\hf_dataset\\venv\\lib\\site-packages (from transformers) (4.67.1)\n",
      "Requirement already satisfied: fsspec>=2023.5.0 in d:\\dysk\\repo\\langchain\\hf_dataset\\venv\\lib\\site-packages (from huggingface-hub<1.0,>=0.34.0->transformers) (2025.3.0)\n",
      "Requirement already satisfied: typing-extensions>=3.7.4.3 in d:\\dysk\\repo\\langchain\\hf_dataset\\venv\\lib\\site-packages (from huggingface-hub<1.0,>=0.34.0->transformers) (4.15.0)\n",
      "Requirement already satisfied: sympy>=1.13.3 in d:\\dysk\\repo\\langchain\\hf_dataset\\venv\\lib\\site-packages (from torch) (1.14.0)\n",
      "Requirement already satisfied: networkx in d:\\dysk\\repo\\langchain\\hf_dataset\\venv\\lib\\site-packages (from torch) (3.5)\n",
      "Requirement already satisfied: jinja2 in d:\\dysk\\repo\\langchain\\hf_dataset\\venv\\lib\\site-packages (from torch) (3.1.6)\n",
      "Requirement already satisfied: setuptools in d:\\dysk\\repo\\langchain\\hf_dataset\\venv\\lib\\site-packages (from torch) (80.9.0)\n",
      "Requirement already satisfied: mpmath<1.4,>=1.1.0 in d:\\dysk\\repo\\langchain\\hf_dataset\\venv\\lib\\site-packages (from sympy>=1.13.3->torch) (1.3.0)\n",
      "Requirement already satisfied: colorama in d:\\dysk\\repo\\langchain\\hf_dataset\\venv\\lib\\site-packages (from tqdm>=4.27->transformers) (0.4.6)\n",
      "Requirement already satisfied: MarkupSafe>=2.0 in d:\\dysk\\repo\\langchain\\hf_dataset\\venv\\lib\\site-packages (from jinja2->torch) (3.0.2)\n",
      "Requirement already satisfied: charset_normalizer<4,>=2 in d:\\dysk\\repo\\langchain\\hf_dataset\\venv\\lib\\site-packages (from requests->transformers) (3.4.3)\n",
      "Requirement already satisfied: idna<4,>=2.5 in d:\\dysk\\repo\\langchain\\hf_dataset\\venv\\lib\\site-packages (from requests->transformers) (3.10)\n",
      "Requirement already satisfied: urllib3<3,>=1.21.1 in d:\\dysk\\repo\\langchain\\hf_dataset\\venv\\lib\\site-packages (from requests->transformers) (2.5.0)\n",
      "Requirement already satisfied: certifi>=2017.4.17 in d:\\dysk\\repo\\langchain\\hf_dataset\\venv\\lib\\site-packages (from requests->transformers) (2025.8.3)\n"
     ]
    }
   ],
   "source": [
    "!pip install transformers torch"
   ]
  },
  {
   "cell_type": "code",
   "execution_count": 6,
   "id": "29630602",
   "metadata": {},
   "outputs": [
    {
     "name": "stderr",
     "output_type": "stream",
     "text": [
      "Some weights of the model checkpoint at bert-large-uncased-whole-word-masking-finetuned-squad were not used when initializing BertForQuestionAnswering: ['bert.pooler.dense.bias', 'bert.pooler.dense.weight']\n",
      "- This IS expected if you are initializing BertForQuestionAnswering from the checkpoint of a model trained on another task or with another architecture (e.g. initializing a BertForSequenceClassification model from a BertForPreTraining model).\n",
      "- This IS NOT expected if you are initializing BertForQuestionAnswering from the checkpoint of a model that you expect to be exactly identical (initializing a BertForSequenceClassification model from a BertForSequenceClassification model).\n"
     ]
    }
   ],
   "source": [
    "from transformers import AutoModelForQuestionAnswering, AutoTokenizer\n",
    "\n",
    "model_name = \"bert-large-uncased-whole-word-masking-finetuned-squad\"\n",
    "tokenizer = AutoTokenizer.from_pretrained(model_name)\n",
    "model = AutoModelForQuestionAnswering.from_pretrained(model_name)"
   ]
  },
  {
   "cell_type": "code",
   "execution_count": 7,
   "id": "c6089e11",
   "metadata": {},
   "outputs": [],
   "source": [
    "# context = \"\"\"\n",
    "# Our new Nexus X500 smartphone boasts a 6.7-inch OLED ProMotion display with a 120Hz refresh rate, a triple-lens camera system featuring a 48MP main sensor, 12MP ultrawide, and a 10x optical zoom telephoto lens. It's powered by the A18 Bionic chip, and offers up to 24 hours of video playback. The device is water-resistant up to 6 meters for 30 minutes and supports 5G connectivity. Battery capacity is 4500 mAh.\n",
    "# \"\"\"\n",
    "# question = \"What is the battery capacity of the Nexus X500?\"\n",
    "\n",
    "context = \"\"\"\n",
    "An Azure Subscription, 'Prod-Central', has multiple resource groups, including 'RG-WebApps' and 'RG-SQL'. A new security requirement dictates that all Storage Accounts created within 'Prod-Central' must enforce HTTPS-only access and disallow public network access and enable soft delete.\n",
    "\"\"\"\n",
    "question = \"How would you enforce these storage account security requirements across the 'Prod-Central' subscription using Azure Policy?\"\n",
    "\n",
    "# context = \"\"\"\n",
    "# A Kubernetes cluster's pods are experiencing intermittent network latency spikes to an external PostgreSQL database. The database is hosted on AWS RDS in a different VPC, peered with the Kubernetes VPC. Monitoring shows normal CPU/memory utilization on both ends.\n",
    "# \"\"\"\n",
    "# question = \"What immediate network diagnostic steps would you take from a Kubernetes pod to the RDS instance?\"\n",
    "\n",
    "# context = \"\"\"\n",
    "# package main\n",
    "# \n",
    "# import (\n",
    "#     \"fmt\"\n",
    "#     \"net/http\"\n",
    "#     \"sync\"\n",
    "# )\n",
    "# \n",
    "# func main() {\n",
    "#     var wg sync.WaitGroup\n",
    "#     urls := []string{\n",
    "#         \"http://example.com/api/data?id=1\",\n",
    "#         \"http://example.com/api/data?id=2\",\n",
    "#         \"http://example.com/api/data?id=3\",\n",
    "#     }\n",
    "# \n",
    "#     for _, url := range urls {\n",
    "#         wg.Add(1)\n",
    "#         go func() { // This go routine has an issue\n",
    "#             defer wg.Done()\n",
    "#             resp, err := http.Get(url)\n",
    "#             if err != nil {\n",
    "#                 fmt.Printf(\"Error fetching %s: %v\\n\", url, err)\n",
    "#                 return\n",
    "#             }\n",
    "#             defer resp.Body.Close()\n",
    "#             fmt.Printf(\"Fetched %s, Status: %s\\n\", url, resp.Status)\n",
    "#         }()\n",
    "#     }\n",
    "#     wg.Wait()\n",
    "# }\n",
    "# \"\"\"\n",
    "# question = \"Identify and fix the concurrency bug in the provided Go snippet.\"\n",
    "\n",
    "# context = \"\"\"\n",
    "# A PostgreSQL 14 database query `SELECT * FROM orders WHERE customer_id = 12345 AND order_date >= '2023-01-01' ORDER BY order_date DESC;` is running slowly. The `orders` table has 100 million rows, with existing B-tree indexes on `customer_id` and `order_date` separately, but not a composite index. The `customer_id` column has high cardinality, while `order_date` has medium.\n",
    "# \"\"\"\n",
    "# question = \"Recommend an index optimization strategy for the given PostgreSQL query and explain why.\"\n",
    "\n",
    "# context = \"\"\"\n",
    "# We use GitLab CI/CD for our Python microservices. Currently, each service has a separate `Dockerfile` and builds independently in its own job. We want to optimize build times by caching pip dependencies and sharing base images more efficiently across services in a monorepo setup.\n",
    "# \"\"\"\n",
    "# question = \"Propose a GitLab CI/CD strategy to improve Python dependency caching and shared base image efficiency for a monorepo.\""
   ]
  },
  {
   "cell_type": "code",
   "execution_count": 8,
   "id": "e4ff6f8d",
   "metadata": {},
   "outputs": [
    {
     "name": "stdout",
     "output_type": "stream",
     "text": [
      "Answer: https - only access and disallow public network access and enable soft delete\n"
     ]
    }
   ],
   "source": [
    "inputs = tokenizer(question, context, return_tensors=\"pt\")\n",
    "\n",
    "outputs = model(**inputs)\n",
    "\n",
    "# Extract the start and end scores\n",
    "start_scores = outputs.start_logits\n",
    "end_scores = outputs.end_logits\n",
    "\n",
    "# Get the most likely start and end positions\n",
    "start_index = start_scores.argmax()\n",
    "end_index = end_scores.argmax()\n",
    "\n",
    "# Convert token IDs back to words\n",
    "answer_tokens = inputs[\"input_ids\"][0][start_index : end_index + 1]\n",
    "answer = tokenizer.decode(answer_tokens, skip_special_tokens=True)\n",
    "\n",
    "print(f\"Answer: {answer}\")"
   ]
  }
 ],
 "metadata": {
  "kernelspec": {
   "display_name": "venv",
   "language": "python",
   "name": "python3"
  },
  "language_info": {
   "codemirror_mode": {
    "name": "ipython",
    "version": 3
   },
   "file_extension": ".py",
   "mimetype": "text/x-python",
   "name": "python",
   "nbconvert_exporter": "python",
   "pygments_lexer": "ipython3",
   "version": "3.13.1"
  }
 },
 "nbformat": 4,
 "nbformat_minor": 5
}
