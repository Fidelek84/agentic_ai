{
 "cells": [
  {
   "cell_type": "code",
   "execution_count": null,
   "id": "ce4f99c2",
   "metadata": {},
   "outputs": [],
   "source": [
    "!pip install transformers diffusers torch"
   ]
  },
  {
   "cell_type": "code",
   "execution_count": null,
   "id": "7c25303f",
   "metadata": {},
   "outputs": [],
   "source": [
    "from diffusers import StableDiffusionPipeline\n",
    "import torch\n",
    "\n",
    "# Load the pre-trained model\n",
    "pipe = StableDiffusionPipeline.from_pretrained(\"runwayml/stable-diffusion-v1-5\", torch_dtype=torch.float16)\n",
    "pipe = pipe.to(\"cuda\")"
   ]
  },
  {
   "cell_type": "code",
   "execution_count": null,
   "id": "267556f1",
   "metadata": {},
   "outputs": [],
   "source": [
    "# prompt = \"A high-speed drone shot flying through a dense, bioluminescent rainforest at night, tracking a glowing, exotic creature as it leaps between giant mushroom caps. Transition to a close-up of its eyes, reflecting the forest's light.\"\n",
    "# prompt = \"A time-lapse of an ancient, petrified tree slowly reanimating: bark softening, branches growing leaves, and finally, blooming vibrant, alien flowers. Rain begins to fall, rejuvenating the surrounding barren land.\"\n",
    "# prompt = \"A cinematic sequence of a solitary steampunk inventor in a cluttered workshop. He meticulously assembles intricate clockwork gears into a flying contraption. It culminates with a successful test flight down a moonlit cobbled street, with sparks and smoke trailing behind.\"\n",
    "# prompt = \"Underwater POV shot: A school of iridescent fish swarming around a shipwreck, revealing ancient artifacts. Suddenly, a giant, slow-moving kraken’s eye opens, filling the frame with a mesmerizing, intelligent gaze. Water becomes murky with ink.\"\n",
    "prompt = \"A hyper-realistic animation showcasing the evolution of a single raindrop from cloud formation, through gentle descent, impact on a leaf, slowly rolling off, and finally merging into a small stream, all in slow motion with macroscopic detail.\"\n",
    "\n",
    "frame = []\n",
    "for i in range(10): # Generate 10 frames\n",
    "    frame = pipe(prompt).images[0]\n",
    "    frame.append(frame)"
   ]
  },
  {
   "cell_type": "code",
   "execution_count": null,
   "id": "11efb4e0",
   "metadata": {},
   "outputs": [],
   "source": [
    "import cv2\n",
    "import numpy as np\n",
    "\n",
    "# Save frames as images\n",
    "for i, frame in enumerate(frames):\n",
    "    cv2.imwrite(f\"frame_{i}.png\", np.array(frame))\n",
    "\n",
    "# Stitch frames into a video\n",
    "frame_rate = 5\n",
    "frame_size = frames[0].size  # This assumes frames[0] has a .size attribute (like a PIL Image)\n",
    "                             # If frames are NumPy arrays, use (frames[0].shape[1], frames[0].shape[0])\n",
    "\n",
    "out = cv2.VideoWriter(\"output_video.mp4\", cv2.VideoWriter_fourcc(*\"mp4v\"), frame_rate, frame_size)\n",
    "\n",
    "for i in range(len(frames)):\n",
    "    frame = cv2.imread(f\"frame_{i}.png\")\n",
    "    out.write(frame)\n",
    "\n",
    "out.release()"
   ]
  }
 ],
 "metadata": {
  "kernelspec": {
   "display_name": "venv",
   "language": "python",
   "name": "python3"
  },
  "language_info": {
   "codemirror_mode": {
    "name": "ipython",
    "version": 3
   },
   "file_extension": ".py",
   "mimetype": "text/x-python",
   "name": "python",
   "nbconvert_exporter": "python",
   "pygments_lexer": "ipython3",
   "version": "3.13.1"
  }
 },
 "nbformat": 4,
 "nbformat_minor": 5
}
