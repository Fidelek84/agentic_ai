{
 "cells": [
  {
   "cell_type": "code",
   "execution_count": null,
   "id": "70ac984c",
   "metadata": {},
   "outputs": [
    {
     "name": "stdout",
     "output_type": "stream",
     "text": [
      "Requirement already satisfied: diffusers in d:\\dysk\\repo\\langchain\\hf_dataset\\venv\\lib\\site-packages (0.35.1)\n",
      "Requirement already satisfied: transformers in d:\\dysk\\repo\\langchain\\hf_dataset\\venv\\lib\\site-packages (4.55.4)\n",
      "Requirement already satisfied: accelerate in d:\\dysk\\repo\\langchain\\hf_dataset\\venv\\lib\\site-packages (1.10.1)\n",
      "Requirement already satisfied: torch in d:\\dysk\\repo\\langchain\\hf_dataset\\venv\\lib\\site-packages (2.8.0)\n",
      "Requirement already satisfied: importlib_metadata in d:\\dysk\\repo\\langchain\\hf_dataset\\venv\\lib\\site-packages (from diffusers) (8.7.0)\n",
      "Requirement already satisfied: filelock in d:\\dysk\\repo\\langchain\\hf_dataset\\venv\\lib\\site-packages (from diffusers) (3.19.1)\n",
      "Requirement already satisfied: huggingface-hub>=0.34.0 in d:\\dysk\\repo\\langchain\\hf_dataset\\venv\\lib\\site-packages (from diffusers) (0.34.4)\n",
      "Requirement already satisfied: numpy in d:\\dysk\\repo\\langchain\\hf_dataset\\venv\\lib\\site-packages (from diffusers) (2.3.2)\n",
      "Requirement already satisfied: regex!=2019.12.17 in d:\\dysk\\repo\\langchain\\hf_dataset\\venv\\lib\\site-packages (from diffusers) (2025.7.34)\n",
      "Requirement already satisfied: requests in d:\\dysk\\repo\\langchain\\hf_dataset\\venv\\lib\\site-packages (from diffusers) (2.32.5)\n",
      "Requirement already satisfied: safetensors>=0.3.1 in d:\\dysk\\repo\\langchain\\hf_dataset\\venv\\lib\\site-packages (from diffusers) (0.6.2)\n",
      "Requirement already satisfied: Pillow in d:\\dysk\\repo\\langchain\\hf_dataset\\venv\\lib\\site-packages (from diffusers) (11.3.0)\n",
      "Requirement already satisfied: packaging>=20.0 in d:\\dysk\\repo\\langchain\\hf_dataset\\venv\\lib\\site-packages (from transformers) (25.0)\n",
      "Requirement already satisfied: pyyaml>=5.1 in d:\\dysk\\repo\\langchain\\hf_dataset\\venv\\lib\\site-packages (from transformers) (6.0.2)\n",
      "Requirement already satisfied: tokenizers<0.22,>=0.21 in d:\\dysk\\repo\\langchain\\hf_dataset\\venv\\lib\\site-packages (from transformers) (0.21.4)\n",
      "Requirement already satisfied: tqdm>=4.27 in d:\\dysk\\repo\\langchain\\hf_dataset\\venv\\lib\\site-packages (from transformers) (4.67.1)\n",
      "Requirement already satisfied: fsspec>=2023.5.0 in d:\\dysk\\repo\\langchain\\hf_dataset\\venv\\lib\\site-packages (from huggingface-hub>=0.34.0->diffusers) (2025.3.0)\n",
      "Requirement already satisfied: typing-extensions>=3.7.4.3 in d:\\dysk\\repo\\langchain\\hf_dataset\\venv\\lib\\site-packages (from huggingface-hub>=0.34.0->diffusers) (4.15.0)\n",
      "Requirement already satisfied: psutil in d:\\dysk\\repo\\langchain\\hf_dataset\\venv\\lib\\site-packages (from accelerate) (7.0.0)\n",
      "Requirement already satisfied: sympy>=1.13.3 in d:\\dysk\\repo\\langchain\\hf_dataset\\venv\\lib\\site-packages (from torch) (1.14.0)\n",
      "Requirement already satisfied: networkx in d:\\dysk\\repo\\langchain\\hf_dataset\\venv\\lib\\site-packages (from torch) (3.5)\n",
      "Requirement already satisfied: jinja2 in d:\\dysk\\repo\\langchain\\hf_dataset\\venv\\lib\\site-packages (from torch) (3.1.6)\n",
      "Requirement already satisfied: setuptools in d:\\dysk\\repo\\langchain\\hf_dataset\\venv\\lib\\site-packages (from torch) (80.9.0)\n",
      "Requirement already satisfied: mpmath<1.4,>=1.1.0 in d:\\dysk\\repo\\langchain\\hf_dataset\\venv\\lib\\site-packages (from sympy>=1.13.3->torch) (1.3.0)\n",
      "Requirement already satisfied: colorama in d:\\dysk\\repo\\langchain\\hf_dataset\\venv\\lib\\site-packages (from tqdm>=4.27->transformers) (0.4.6)\n",
      "Requirement already satisfied: zipp>=3.20 in d:\\dysk\\repo\\langchain\\hf_dataset\\venv\\lib\\site-packages (from importlib_metadata->diffusers) (3.23.0)\n",
      "Requirement already satisfied: MarkupSafe>=2.0 in d:\\dysk\\repo\\langchain\\hf_dataset\\venv\\lib\\site-packages (from jinja2->torch) (3.0.2)\n",
      "Requirement already satisfied: charset_normalizer<4,>=2 in d:\\dysk\\repo\\langchain\\hf_dataset\\venv\\lib\\site-packages (from requests->diffusers) (3.4.3)\n",
      "Requirement already satisfied: idna<4,>=2.5 in d:\\dysk\\repo\\langchain\\hf_dataset\\venv\\lib\\site-packages (from requests->diffusers) (3.10)\n",
      "Requirement already satisfied: urllib3<3,>=1.21.1 in d:\\dysk\\repo\\langchain\\hf_dataset\\venv\\lib\\site-packages (from requests->diffusers) (2.5.0)\n",
      "Requirement already satisfied: certifi>=2017.4.17 in d:\\dysk\\repo\\langchain\\hf_dataset\\venv\\lib\\site-packages (from requests->diffusers) (2025.8.3)\n"
     ]
    }
   ],
   "source": [
    "!pip install diffusers transformers accelerate torch\n",
    "!pip install huggingface_hub[hf_xet]\n",
    "!pip install hf_xet"
   ]
  },
  {
   "cell_type": "code",
   "execution_count": 8,
   "id": "105fbdae",
   "metadata": {},
   "outputs": [
    {
     "name": "stderr",
     "output_type": "stream",
     "text": [
      "Fetching 16 files:   0%|          | 0/16 [00:00<?, ?it/s]Xet Storage is enabled for this repo, but the 'hf_xet' package is not installed. Falling back to regular HTTP download. For better performance, install the package with: `pip install huggingface_hub[hf_xet]` or `pip install hf_xet`\n",
      "Xet Storage is enabled for this repo, but the 'hf_xet' package is not installed. Falling back to regular HTTP download. For better performance, install the package with: `pip install huggingface_hub[hf_xet]` or `pip install hf_xet`\n",
      "Xet Storage is enabled for this repo, but the 'hf_xet' package is not installed. Falling back to regular HTTP download. For better performance, install the package with: `pip install huggingface_hub[hf_xet]` or `pip install hf_xet`\n",
      "Xet Storage is enabled for this repo, but the 'hf_xet' package is not installed. Falling back to regular HTTP download. For better performance, install the package with: `pip install huggingface_hub[hf_xet]` or `pip install hf_xet`\n",
      "Fetching 16 files: 100%|██████████| 16/16 [01:01<00:00,  3.87s/it]\n",
      "Loading pipeline components...: 100%|██████████| 7/7 [00:02<00:00,  3.02it/s]\n",
      "Pipelines loaded with `dtype=torch.float16` cannot run with `cpu` device. It is not recommended to move them to `cpu` as running them will fail. Please make sure to use an accelerator to run the pipeline in inference, due to the lack of support for`float16` operations on this device in PyTorch. Please, remove the `torch_dtype=torch.float16` argument, or use another device for inference.\n",
      "Pipelines loaded with `dtype=torch.float16` cannot run with `cpu` device. It is not recommended to move them to `cpu` as running them will fail. Please make sure to use an accelerator to run the pipeline in inference, due to the lack of support for`float16` operations on this device in PyTorch. Please, remove the `torch_dtype=torch.float16` argument, or use another device for inference.\n",
      "Pipelines loaded with `dtype=torch.float16` cannot run with `cpu` device. It is not recommended to move them to `cpu` as running them will fail. Please make sure to use an accelerator to run the pipeline in inference, due to the lack of support for`float16` operations on this device in PyTorch. Please, remove the `torch_dtype=torch.float16` argument, or use another device for inference.\n",
      "Pipelines loaded with `dtype=torch.float16` cannot run with `cpu` device. It is not recommended to move them to `cpu` as running them will fail. Please make sure to use an accelerator to run the pipeline in inference, due to the lack of support for`float16` operations on this device in PyTorch. Please, remove the `torch_dtype=torch.float16` argument, or use another device for inference.\n"
     ]
    }
   ],
   "source": [
    "from diffusers import StableDiffusionPipeline\n",
    "import torch\n",
    "\n",
    "# Load the Stable Diffusion model\n",
    "model_id = \"CompVis/stable-diffusion-v1-4\"\n",
    "pipe = StableDiffusionPipeline.from_pretrained(\n",
    "    model_id,\n",
    "    torch_dtype=torch.float16\n",
    ")\n",
    "\n",
    "# Move the model to GPU if available\n",
    "device = \"cuda\" if torch.cuda.is_available() else \"cpu\"\n",
    "pipe = pipe.to(device)"
   ]
  },
  {
   "cell_type": "code",
   "execution_count": null,
   "id": "b7d932f8",
   "metadata": {},
   "outputs": [
    {
     "name": "stderr",
     "output_type": "stream",
     "text": [
      "d:\\Dysk\\REPO\\langchain\\HF_dataset\\venv\\Lib\\site-packages\\torch\\amp\\autocast_mode.py:266: UserWarning: User provided device_type of 'cuda', but CUDA is not available. Disabling\n",
      "  warnings.warn(\n",
      "  0%|          | 0/50 [00:00<?, ?it/s]"
     ]
    }
   ],
   "source": [
    "# Define your text prompt\n",
    "prompt = \"Flying cars soar over a futuristic cityscape at sunset.\"\n",
    "\n",
    "# Generate the image\n",
    "with torch.autocast(\"cuda\"): # Use autocast for mixed precision (faster on GPU)\n",
    "    image = pipe(prompt).images[0]\n",
    "\n",
    "# Save the image\n",
    "image.save(\"generated_image.png\")\n",
    "print(\"Image saved as generated_image.png\")"
   ]
  }
 ],
 "metadata": {
  "kernelspec": {
   "display_name": "venv",
   "language": "python",
   "name": "python3"
  },
  "language_info": {
   "codemirror_mode": {
    "name": "ipython",
    "version": 3
   },
   "file_extension": ".py",
   "mimetype": "text/x-python",
   "name": "python",
   "nbconvert_exporter": "python",
   "pygments_lexer": "ipython3",
   "version": "3.13.1"
  }
 },
 "nbformat": 4,
 "nbformat_minor": 5
}
