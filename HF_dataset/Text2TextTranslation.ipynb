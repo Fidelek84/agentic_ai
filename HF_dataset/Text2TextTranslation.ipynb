{
 "cells": [
  {
   "cell_type": "code",
   "execution_count": 4,
   "id": "a1626f5f",
   "metadata": {},
   "outputs": [
    {
     "name": "stdout",
     "output_type": "stream",
     "text": [
      "Requirement already satisfied: transformers in d:\\dysk\\repo\\langchain\\hf_dataset\\venv\\lib\\site-packages (4.55.4)\n",
      "Requirement already satisfied: torch in d:\\dysk\\repo\\langchain\\hf_dataset\\venv\\lib\\site-packages (2.8.0)\n",
      "Requirement already satisfied: filelock in d:\\dysk\\repo\\langchain\\hf_dataset\\venv\\lib\\site-packages (from transformers) (3.19.1)\n",
      "Requirement already satisfied: huggingface-hub<1.0,>=0.34.0 in d:\\dysk\\repo\\langchain\\hf_dataset\\venv\\lib\\site-packages (from transformers) (0.34.4)\n",
      "Requirement already satisfied: numpy>=1.17 in d:\\dysk\\repo\\langchain\\hf_dataset\\venv\\lib\\site-packages (from transformers) (2.3.2)\n",
      "Requirement already satisfied: packaging>=20.0 in d:\\dysk\\repo\\langchain\\hf_dataset\\venv\\lib\\site-packages (from transformers) (25.0)\n",
      "Requirement already satisfied: pyyaml>=5.1 in d:\\dysk\\repo\\langchain\\hf_dataset\\venv\\lib\\site-packages (from transformers) (6.0.2)\n",
      "Requirement already satisfied: regex!=2019.12.17 in d:\\dysk\\repo\\langchain\\hf_dataset\\venv\\lib\\site-packages (from transformers) (2025.7.34)\n",
      "Requirement already satisfied: requests in d:\\dysk\\repo\\langchain\\hf_dataset\\venv\\lib\\site-packages (from transformers) (2.32.5)\n",
      "Requirement already satisfied: tokenizers<0.22,>=0.21 in d:\\dysk\\repo\\langchain\\hf_dataset\\venv\\lib\\site-packages (from transformers) (0.21.4)\n",
      "Requirement already satisfied: safetensors>=0.4.3 in d:\\dysk\\repo\\langchain\\hf_dataset\\venv\\lib\\site-packages (from transformers) (0.6.2)\n",
      "Requirement already satisfied: tqdm>=4.27 in d:\\dysk\\repo\\langchain\\hf_dataset\\venv\\lib\\site-packages (from transformers) (4.67.1)\n",
      "Requirement already satisfied: fsspec>=2023.5.0 in d:\\dysk\\repo\\langchain\\hf_dataset\\venv\\lib\\site-packages (from huggingface-hub<1.0,>=0.34.0->transformers) (2025.3.0)\n",
      "Requirement already satisfied: typing-extensions>=3.7.4.3 in d:\\dysk\\repo\\langchain\\hf_dataset\\venv\\lib\\site-packages (from huggingface-hub<1.0,>=0.34.0->transformers) (4.15.0)\n",
      "Requirement already satisfied: sympy>=1.13.3 in d:\\dysk\\repo\\langchain\\hf_dataset\\venv\\lib\\site-packages (from torch) (1.14.0)\n",
      "Requirement already satisfied: networkx in d:\\dysk\\repo\\langchain\\hf_dataset\\venv\\lib\\site-packages (from torch) (3.5)\n",
      "Requirement already satisfied: jinja2 in d:\\dysk\\repo\\langchain\\hf_dataset\\venv\\lib\\site-packages (from torch) (3.1.6)\n",
      "Requirement already satisfied: setuptools in d:\\dysk\\repo\\langchain\\hf_dataset\\venv\\lib\\site-packages (from torch) (80.9.0)\n",
      "Requirement already satisfied: mpmath<1.4,>=1.1.0 in d:\\dysk\\repo\\langchain\\hf_dataset\\venv\\lib\\site-packages (from sympy>=1.13.3->torch) (1.3.0)\n",
      "Requirement already satisfied: colorama in d:\\dysk\\repo\\langchain\\hf_dataset\\venv\\lib\\site-packages (from tqdm>=4.27->transformers) (0.4.6)\n",
      "Requirement already satisfied: MarkupSafe>=2.0 in d:\\dysk\\repo\\langchain\\hf_dataset\\venv\\lib\\site-packages (from jinja2->torch) (3.0.2)\n",
      "Requirement already satisfied: charset_normalizer<4,>=2 in d:\\dysk\\repo\\langchain\\hf_dataset\\venv\\lib\\site-packages (from requests->transformers) (3.4.3)\n",
      "Requirement already satisfied: idna<4,>=2.5 in d:\\dysk\\repo\\langchain\\hf_dataset\\venv\\lib\\site-packages (from requests->transformers) (3.10)\n",
      "Requirement already satisfied: urllib3<3,>=1.21.1 in d:\\dysk\\repo\\langchain\\hf_dataset\\venv\\lib\\site-packages (from requests->transformers) (2.5.0)\n",
      "Requirement already satisfied: certifi>=2017.4.17 in d:\\dysk\\repo\\langchain\\hf_dataset\\venv\\lib\\site-packages (from requests->transformers) (2025.8.3)\n",
      "Requirement already satisfied: sentencepiece in d:\\dysk\\repo\\langchain\\hf_dataset\\venv\\lib\\site-packages (0.2.1)\n"
     ]
    }
   ],
   "source": [
    "!pip install transformers torch\n",
    "!pip install sentencepiece"
   ]
  },
  {
   "cell_type": "code",
   "execution_count": 5,
   "id": "5ed32d9f",
   "metadata": {},
   "outputs": [],
   "source": [
    "from transformers import T5ForConditionalGeneration, T5Tokenizer\n",
    "\n",
    "# Load the pre-treined T5 model and tokenizer\n",
    "model_name = \"t5-small\"\n",
    "tokenizer = T5Tokenizer.from_pretrained(model_name)\n",
    "model = T5ForConditionalGeneration.from_pretrained(model_name)"
   ]
  },
  {
   "cell_type": "code",
   "execution_count": 6,
   "id": "c4be7798",
   "metadata": {},
   "outputs": [
    {
     "name": "stdout",
     "output_type": "stream",
     "text": [
      "Translated Text: L'avancement rapide de l'intelligence artificielle transforme les industries mondiales, en apportant à la fois des possibilités sans précédent et de nouveaux défis.\n"
     ]
    }
   ],
   "source": [
    "input_text = \"Translate English to French: The rapid advancement of artificial intelligence is transforming industries worldwide, bringing both unprecedented opportunities and new challenges.\"\n",
    "# input_text = \"Translate English to German: Network engineers frequently troubleshoot latency issues by analyzing packet loss and optimizing routing protocols.\"\n",
    "# input_text = \"Translate English to Italian: Could you give me a hand with this? It's raining cats and dogs outside, so we should probably call it a day.\"\n",
    "\n",
    "\n",
    "input_ids = tokenizer(input_text, return_tensors=\"pt\").input_ids\n",
    "\n",
    "# Generate translation\n",
    "outputs = model.generate(input_ids, max_length=50)\n",
    "\n",
    "# Decode the output tokens to text\n",
    "translated_text = tokenizer.decode(outputs[0], skip_special_tokens=True)\n",
    "print(\"Translated Text:\", translated_text)"
   ]
  }
 ],
 "metadata": {
  "kernelspec": {
   "display_name": "venv",
   "language": "python",
   "name": "python3"
  },
  "language_info": {
   "codemirror_mode": {
    "name": "ipython",
    "version": 3
   },
   "file_extension": ".py",
   "mimetype": "text/x-python",
   "name": "python",
   "nbconvert_exporter": "python",
   "pygments_lexer": "ipython3",
   "version": "3.13.1"
  }
 },
 "nbformat": 4,
 "nbformat_minor": 5
}
