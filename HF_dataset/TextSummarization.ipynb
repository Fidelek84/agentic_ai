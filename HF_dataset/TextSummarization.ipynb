{
 "cells": [
  {
   "cell_type": "code",
   "execution_count": 43,
   "id": "4cc172fc",
   "metadata": {},
   "outputs": [
    {
     "name": "stdout",
     "output_type": "stream",
     "text": [
      "Requirement already satisfied: transformers in d:\\dysk\\repo\\langchain\\hf_dataset\\venv\\lib\\site-packages (4.55.4)\n",
      "Requirement already satisfied: torch in d:\\dysk\\repo\\langchain\\hf_dataset\\venv\\lib\\site-packages (2.8.0)\n",
      "Requirement already satisfied: filelock in d:\\dysk\\repo\\langchain\\hf_dataset\\venv\\lib\\site-packages (from transformers) (3.19.1)\n",
      "Requirement already satisfied: huggingface-hub<1.0,>=0.34.0 in d:\\dysk\\repo\\langchain\\hf_dataset\\venv\\lib\\site-packages (from transformers) (0.34.4)\n",
      "Requirement already satisfied: numpy>=1.17 in d:\\dysk\\repo\\langchain\\hf_dataset\\venv\\lib\\site-packages (from transformers) (2.3.2)\n",
      "Requirement already satisfied: packaging>=20.0 in d:\\dysk\\repo\\langchain\\hf_dataset\\venv\\lib\\site-packages (from transformers) (25.0)\n",
      "Requirement already satisfied: pyyaml>=5.1 in d:\\dysk\\repo\\langchain\\hf_dataset\\venv\\lib\\site-packages (from transformers) (6.0.2)\n",
      "Requirement already satisfied: regex!=2019.12.17 in d:\\dysk\\repo\\langchain\\hf_dataset\\venv\\lib\\site-packages (from transformers) (2025.7.34)\n",
      "Requirement already satisfied: requests in d:\\dysk\\repo\\langchain\\hf_dataset\\venv\\lib\\site-packages (from transformers) (2.32.5)\n",
      "Requirement already satisfied: tokenizers<0.22,>=0.21 in d:\\dysk\\repo\\langchain\\hf_dataset\\venv\\lib\\site-packages (from transformers) (0.21.4)\n",
      "Requirement already satisfied: safetensors>=0.4.3 in d:\\dysk\\repo\\langchain\\hf_dataset\\venv\\lib\\site-packages (from transformers) (0.6.2)\n",
      "Requirement already satisfied: tqdm>=4.27 in d:\\dysk\\repo\\langchain\\hf_dataset\\venv\\lib\\site-packages (from transformers) (4.67.1)\n",
      "Requirement already satisfied: fsspec>=2023.5.0 in d:\\dysk\\repo\\langchain\\hf_dataset\\venv\\lib\\site-packages (from huggingface-hub<1.0,>=0.34.0->transformers) (2025.3.0)\n",
      "Requirement already satisfied: typing-extensions>=3.7.4.3 in d:\\dysk\\repo\\langchain\\hf_dataset\\venv\\lib\\site-packages (from huggingface-hub<1.0,>=0.34.0->transformers) (4.15.0)\n",
      "Requirement already satisfied: sympy>=1.13.3 in d:\\dysk\\repo\\langchain\\hf_dataset\\venv\\lib\\site-packages (from torch) (1.14.0)\n",
      "Requirement already satisfied: networkx in d:\\dysk\\repo\\langchain\\hf_dataset\\venv\\lib\\site-packages (from torch) (3.5)\n",
      "Requirement already satisfied: jinja2 in d:\\dysk\\repo\\langchain\\hf_dataset\\venv\\lib\\site-packages (from torch) (3.1.6)\n",
      "Requirement already satisfied: setuptools in d:\\dysk\\repo\\langchain\\hf_dataset\\venv\\lib\\site-packages (from torch) (80.9.0)\n",
      "Requirement already satisfied: mpmath<1.4,>=1.1.0 in d:\\dysk\\repo\\langchain\\hf_dataset\\venv\\lib\\site-packages (from sympy>=1.13.3->torch) (1.3.0)\n",
      "Requirement already satisfied: colorama in d:\\dysk\\repo\\langchain\\hf_dataset\\venv\\lib\\site-packages (from tqdm>=4.27->transformers) (0.4.6)\n",
      "Requirement already satisfied: MarkupSafe>=2.0 in d:\\dysk\\repo\\langchain\\hf_dataset\\venv\\lib\\site-packages (from jinja2->torch) (3.0.2)\n",
      "Requirement already satisfied: charset_normalizer<4,>=2 in d:\\dysk\\repo\\langchain\\hf_dataset\\venv\\lib\\site-packages (from requests->transformers) (3.4.3)\n",
      "Requirement already satisfied: idna<4,>=2.5 in d:\\dysk\\repo\\langchain\\hf_dataset\\venv\\lib\\site-packages (from requests->transformers) (3.10)\n",
      "Requirement already satisfied: urllib3<3,>=1.21.1 in d:\\dysk\\repo\\langchain\\hf_dataset\\venv\\lib\\site-packages (from requests->transformers) (2.5.0)\n",
      "Requirement already satisfied: certifi>=2017.4.17 in d:\\dysk\\repo\\langchain\\hf_dataset\\venv\\lib\\site-packages (from requests->transformers) (2025.8.3)\n"
     ]
    }
   ],
   "source": [
    "!pip install transformers torch"
   ]
  },
  {
   "cell_type": "code",
   "execution_count": 44,
   "id": "395ecbce",
   "metadata": {},
   "outputs": [],
   "source": [
    "from transformers import AutoModelForSeq2SeqLM, AutoTokenizer\n",
    "\n",
    "# Load the pre-trained model and tokenizer for text summarization\n",
    "model_name = \"facebook/bart-large-cnn\"\n",
    "tockenizer = AutoTokenizer.from_pretrained(model_name)\n",
    "model = AutoModelForSeq2SeqLM.from_pretrained(model_name)"
   ]
  },
  {
   "cell_type": "code",
   "execution_count": 45,
   "id": "d3655391",
   "metadata": {},
   "outputs": [],
   "source": [
    "# Input texts to summarize\n",
    "\n",
    "# Executive Summary for a Project Report\n",
    "text_1 = \"\"\"\n",
    "PROJECT QUANTUM ANALYTICS: Q3 2024 PERFORMANCE REVIEW\n",
    "\n",
    "This report details the performance and achievements of Project Quantum Analytics during the third quarter of 2024. Key milestones achieved include the successful deployment of the secure data ingestion pipeline, which processed an average of 5 TB of raw data daily with a 99.8% accuracy rate. The new AI-driven anomaly detection module was integrated and has successfully identified 14 critical deviations, reducing potential system downtime by an estimated 25 hours over the quarter. User adoption metrics show a 15% increase in daily active users compared to Q2, reaching 3,500 unique users. Revenue projections remain on track, with preliminary figures indicating a 12% revenue increase directly attributable to enhanced analytical insights provided by the platform. Challenges encountered primarily revolved around initial integration complexities with legacy systems, which were resolved through iterative API development and stakeholder collaboration. Future plans for Q4 include expanding the platform's capabilities to include predictive modeling for supply chain optimization and exploratory integration with external market data feeds. The team's productivity and responsiveness were exceptional, maintaining a task completion rate above 90% and responding to critical incidents within 30 minutes on average. Overall, Project Quantum Analytics continues to exceed expectations and is a significant driver for the company's data literacy initiatives.\n",
    "\"\"\"\n",
    "\n",
    "# Key Takeaways from a Long Meeting Transcript\n",
    "text_2 = \"\"\"\n",
    "MEETING TRANSCRIPT: Q4 SALES STRATEGY SESSION - October 26, 2024\n",
    "\n",
    "Attendees: Sarah Chen (Head of Sales), John Davis (Marketing Director), Emily White (Product Lead), Michael Brown (Regional Sales Manager - North), Jessica Lee (Regional Sales Manager - South).\n",
    "\n",
    "Sarah Chen opened the meeting discussing Q3 performance, noting a 5% shortfall against target, primarily due to increased competitor activity in the Southern region and a slower-than-expected uptake of the new Enterprise tier. John Davis presented marketing's proposed Q4 campaigns, focusing on a new \"Value-Added Services\" initiative and a targeted digital ad spend increase of 20% in EMEA. Emily White provided an update on product roadmap, confirming Q4 release for Feature X and Q1 2025 for Feature Y, and addressing feedback on Feature Z. Michael Brown highlighted challenges in closing deals in the North due to pricing pressures from 'InnovateCorp' and requested clearer competitive differentiation materials. Jessica Lee reported strong performance in the South's mid-market segment but struggled with the Enterprise tier product fit mentioned earlier. Action items were assigned: John to draft new competitive battle cards by EOD next Tuesday. Emily to schedule a product deep-dive with sales teams on Feature X by Nov 10. Sarah to review Q4 incentives structure by Nov 5. Next meeting scheduled for Nov 15.\n",
    "\"\"\"\n",
    "\n",
    "# Long Email Thread Summarization (Client Communication)\n",
    "text_3 = \"\"\"\n",
    "EMAIL THREAD: Follow-up on CRM Integration Project - REF: #CRMI2024-005\n",
    "\n",
    "From: Liam O'Connell <liam.o'connell@techsolutions.com>\n",
    "To: Customer Support <support@clientco.com>\n",
    "Date: October 20, 2024\n",
    "Subject: CRM Integration Project Update\n",
    "\n",
    "Hi Team,\n",
    "\n",
    "Hope you're well. Just wanted to provide a quick update on the ongoing CRM integration project. We've completed Phase 1 (data migration from old system to new Salesforce instance) and preliminary validation shows a 99.7% success rate for record transfer. We encountered a minor issue with custom field mapping for 'ClientSegment' which we've documented and will address in Phase 2. Please confirm if you've seen any discrepancies on your end.\n",
    "\n",
    "Best,\n",
    "Liam\n",
    "\n",
    "---\n",
    "From: Sarah Jones <sarah.jones@clientco.com>\n",
    "To: Liam O'Connell <liam.o'connell@techsolutions.com>\n",
    "Date: October 22, 2024\n",
    "Subject: RE: CRM Integration Project Update\n",
    "\n",
    "Hi Liam,\n",
    "\n",
    "Thanks for the update. We did notice a few missing entries in the 'Recent Activity' log for about 50 accounts. We're compiling a list now. Also, regarding 'ClientSegment', we need to retain the historical values for reporting, not just the current ones. Can we discuss this next week?\n",
    "\n",
    "Regards,\n",
    "Sarah\n",
    "\n",
    "---\n",
    "From: Liam O'Connell <liam.o'connell@techsolutions.com>\n",
    "To: Sarah Jones <sarah.jones@clientco.com>\n",
    "Date: October 23, 2024\n",
    "Subject: RE: CRM Integration Project Update\n",
    "\n",
    "Sarah,\n",
    "\n",
    "Got it. For 'Recent Activity', please send the list of affected accounts; we can re-migrate those specifically. For 'ClientSegment' historical values, that's a more complex requirement but certainly feasible. It needs a custom object or a different mapping strategy. Let's schedule a call for Tuesday at 10 AM EST to dive deeper into both points. I'll send an invite.\n",
    "\n",
    "Cheers,\n",
    "Liam\n",
    "\"\"\"\n",
    "\n",
    "# Technical Documentation/Release Notes\n",
    "text_4 = \"\"\"\n",
    "RELEASE NOTES: INTERFACE MODULE V3.1.0 - November 1, 2024\n",
    "\n",
    "This release introduces significant enhancements to the Interface Module, focusing on improved data handling, security, and developer experience.\n",
    "\n",
    "**New Features:**\n",
    "*   **Asynchronous Data Processing (ADP):** Implemented a new message queuing system (Kafka-based) for non-blocking data ingestion, increasing throughput by 40%. This replaces the previous synchronous HTTP POST method for large payloads.\n",
    "*   **API Key Rotation Service:** Added an automated service to facilitate secure rotation of API keys every 90 days. This enhances compliance with ISO 27001 standards and reduces the risk of long-lived key compromises. Admins can configure rotation schedules via the new 'Security' tab in the dashboard.\n",
    "*   **Enhanced Error Logging:** Integrated Sentry.io for real-time error tracking and alerting, allowing for quicker identification and resolution of production issues. Improved log granularity provides more context for debugging.\n",
    "\n",
    "**Improvements:**\n",
    "*   Optimized database queries for the 'User Permissions' endpoint, reducing response times by 15-20%.\n",
    "*   Refactored internal data validation logic for improved robustness and maintainability.\n",
    "*   Updated documentation for the `/api/v3/transactions` endpoint to include new query parameters and response examples.\n",
    "\n",
    "**Bug Fixes:**\n",
    "*   Fixed an issue where large file uploads would occasionally timeout before completion.\n",
    "*   Resolved a bug causing incorrect timestamp conversion for certain international locales.\n",
    "*   Addressed a display quirk in the user interface where long error messages would overflow containers.\n",
    "\n",
    "**Deprecated Features:**\n",
    "*   The legacy `/api/v2/authenticate` endpoint is now deprecated and will be removed in V3.3.0. Users are advised to migrate to `/api/v3/auth/token`.\n",
    "\"\"\"\n",
    "\n",
    "# Legal Clause/Contract Section\n",
    "text_5 = \"\"\"\n",
    "ARTICLE 7: LIMITATION OF LIABILITY\n",
    "\n",
    "7.1. **General Limitation.** IN NO EVENT SHALL ABC CORP OR ITS AFFILIATES, OFFICERS, DIRECTORS, EMPLOYEES, AGENTS, OR LICENSORS BE LIABLE FOR ANY INDIRECT, PUNITIVE, INCIDENTAL, SPECIAL, CONSEQUENTIAL, OR EXEMPLARY DAMAGES, INCLUDING WITHOUT LIMITATION DAMAGES FOR LOSS OF PROFITS, GOODWILL, USE, DATA, OR OTHER INTANGIBLE LOSSES, THAT RESULT FROM THE USE OF, OR INABILITY TO USE, THIS SERVICE.\n",
    "\n",
    "7.2. **Cap on Liability.** UNDER NO CIRCUMSTANCES WILL THE TOTAL AGGREGATE LIABILITY OF ABC CORP AND ITS AFFILIATES, CONTRACTORS, EMPLOYEES, VENDORS, OR LICENSORS TO YOU FOR ALL DAMAGES, LOSSES, AND CAUSES OF ACTION ARISING FROM OR RELATING TO THESE TERMS OR YOUR USE OF OR INABILITY TO USE THE SERVICE EXCEED THE AMOUNT PAID BY YOU TO ABC CORP FOR THE SERVICE IN THE TWELVE (12) MONTH PERIOD IMMEDIATELY PRECEDING THE CLAIM GIVING RISE TO SUCH LIABILITY, OR ONE HUNDRED U.S. DOLLARS ($100.00), WHICHEVER IS GREATER. THIS LIMITATION APPLIES REGARDLESS OF THE LEGAL THEORY, INCLUDING CONTRACT, TORT (INCLUDING NEGLIGENCE), WARRANTY, OR OTHERWISE.\n",
    "\n",
    "7.3. **Exclusions.** Some jurisdictions do not allow the exclusion of certain warranties or the exclusion or limitation of liability for consequential or incidental damages, so the limitations and exclusions set forth in Sections 7.1 and 7.2 above may not apply to you. To the extent that the exclusion or limitation of liability for consequential or incidental damages is not permitted by law, ABC Corp’s liability is limited to the maximum extent permitted by law.\n",
    "\"\"\""
   ]
  },
  {
   "cell_type": "code",
   "execution_count": 46,
   "id": "21059a3d",
   "metadata": {},
   "outputs": [],
   "source": [
    "# Tokenize the input text\n",
    "inputs = tockenizer.encode(\"summarize: \" + text_4, return_tensors=\"pt\", max_length=512, truncation=True)"
   ]
  },
  {
   "cell_type": "code",
   "execution_count": 47,
   "id": "480ed6bf",
   "metadata": {},
   "outputs": [
    {
     "name": "stdout",
     "output_type": "stream",
     "text": [
      "New features focus on improved data handling, security and developer experience. New message queuing system for non-blocking data ingestion. Added automated service to facilitate secure rotation of API keys every 90 days.\n"
     ]
    }
   ],
   "source": [
    "# Generate the summary\n",
    "summary_ids = model.generate(inputs, max_length=50, min_length=25, length_penalty=2.0, num_beams=4, early_stopping=True)\n",
    "summary = tockenizer.decode(summary_ids[0], skip_special_tokens=True)\n",
    "\n",
    "print(summary)"
   ]
  }
 ],
 "metadata": {
  "kernelspec": {
   "display_name": "venv",
   "language": "python",
   "name": "python3"
  },
  "language_info": {
   "codemirror_mode": {
    "name": "ipython",
    "version": 3
   },
   "file_extension": ".py",
   "mimetype": "text/x-python",
   "name": "python",
   "nbconvert_exporter": "python",
   "pygments_lexer": "ipython3",
   "version": "3.13.1"
  }
 },
 "nbformat": 4,
 "nbformat_minor": 5
}
